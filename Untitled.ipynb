{
 "cells": [
  {
   "cell_type": "code",
   "execution_count": 1,
   "metadata": {},
   "outputs": [],
   "source": [
    "import pandas as pd\n",
    "import numpy as np\n"
   ]
  },
  {
   "cell_type": "code",
   "execution_count": 2,
   "metadata": {},
   "outputs": [],
   "source": [
    "def add(iter_dat):\n",
    "    temp_1 = input('Введите фамилию> ')\n",
    "    temp_2 = input('Введите имя> ')\n",
    "    temp_3 = input('Введите знак зодиака> ')\n",
    "    temp_4 = input('Введите день рождения> ')\n",
    "    temp_5 = input('Введите месяц рождения> ')\n",
    "    temp_6 = input('Введите год рождения> ')\n",
    "    dat_frame.loc[iter_dat] = [temp_1, temp_2, temp_3, temp_4, temp_5, temp_6]"
   ]
  },
  {
   "cell_type": "code",
   "execution_count": 3,
   "metadata": {},
   "outputs": [],
   "source": [
    "def find():\n",
    "    temp_f = input('Какой знак зодиака> ')\n",
    "    print(f'\\nЛюди по вашему запросу:\\n{dat_frame[dat_frame[\"Знак зодиака\"] == temp_f]}')"
   ]
  },
  {
   "cell_type": "code",
   "execution_count": null,
   "metadata": {},
   "outputs": [
    {
     "name": "stdout",
     "output_type": "stream",
     "text": [
      "Введите команду> ырщц\n",
      "Ошибка\n",
      "Введите команду> show\n",
      "  Фамилия     Имя Знак зодиака День рождения Месяц рождения Год рождения\n",
      "1  Уваров  Никита          Рак            03             07         2001\n"
     ]
    }
   ],
   "source": [
    "if __name__ == '__main__':\n",
    "    first_ser = pd.Series(['Уваров', 'Никита', 'Рак', '03', '07', '2001'],\n",
    "                          ['Фамилия', 'Имя', 'Знак зодиака', 'День рождения', 'Месяц рождения', 'Год рождения'])\n",
    "    iter_dat = 1\n",
    "    dat_frame = pd.DataFrame(\n",
    "        {\n",
    "            'Фамилия': {iter_dat: first_ser['Фамилия']},\n",
    "            'Имя': {iter_dat: first_ser['Имя']},\n",
    "            'Знак зодиака': {iter_dat: first_ser['Знак зодиака']},\n",
    "            'День рождения': {iter_dat: first_ser['День рождения']},\n",
    "            'Месяц рождения': {iter_dat: first_ser['Месяц рождения']},\n",
    "            'Год рождения': {iter_dat: first_ser['Год рождения']},\n",
    "        }\n",
    "    )\n",
    "    while True:\n",
    "        comm = input('Введите команду> ')\n",
    "        if comm == 'add':\n",
    "            iter_dat += 1\n",
    "            add(iter_dat)\n",
    "        elif comm == 'find':\n",
    "            find()\n",
    "        elif comm == 'help':\n",
    "            print('Помощь\\nДобавить человека - add\\n'\n",
    "                  'Найти людей по знаку зодиака - find\\n'\n",
    "                  'Показать таблицу - show\\nПомощь - help'\n",
    "                  'Выход - exit')\n",
    "        elif comm == 'show':\n",
    "            print(dat_frame)\n",
    "        elif comm == 'exit':\n",
    "            break\n",
    "        else:\n",
    "            print('Ошибка')"
   ]
  },
  {
   "cell_type": "code",
   "execution_count": null,
   "metadata": {},
   "outputs": [],
   "source": []
  },
  {
   "cell_type": "code",
   "execution_count": null,
   "metadata": {},
   "outputs": [],
   "source": []
  }
 ],
 "metadata": {
  "kernelspec": {
   "display_name": "Python 3",
   "language": "python",
   "name": "python3"
  },
  "language_info": {
   "codemirror_mode": {
    "name": "ipython",
    "version": 3
   },
   "file_extension": ".py",
   "mimetype": "text/x-python",
   "name": "python",
   "nbconvert_exporter": "python",
   "pygments_lexer": "ipython3",
   "version": "3.8.3"
  }
 },
 "nbformat": 4,
 "nbformat_minor": 4
}
